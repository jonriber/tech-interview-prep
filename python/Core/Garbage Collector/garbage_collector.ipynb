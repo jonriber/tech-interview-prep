{
 "cells": [
  {
   "cell_type": "markdown",
   "id": "1008eadf",
   "metadata": {},
   "source": [
    "# Garbage Collector\n",
    "\n",
    "This module provides an interface to the optional garbage collector. It provides the ability to disable the collector, tune the collection frequency, and set debugging options.\n",
    "\n"
   ]
  }
 ],
 "metadata": {
  "language_info": {
   "name": "python"
  }
 },
 "nbformat": 4,
 "nbformat_minor": 5
}
